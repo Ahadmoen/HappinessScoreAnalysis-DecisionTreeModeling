{
  "nbformat": 4,
  "nbformat_minor": 0,
  "metadata": {
    "colab": {
      "provenance": []
    },
    "kernelspec": {
      "name": "python3",
      "display_name": "Python 3"
    },
    "language_info": {
      "name": "python"
    }
  },
  "cells": [
    {
      "cell_type": "code",
      "execution_count": 2,
      "metadata": {
        "id": "trZzR5Vs9knq"
      },
      "outputs": [],
      "source": [
        "import numpy as np\n",
        "import matplotlib.pyplot as plt\n",
        "import pandas as pd\n",
        "import plotly.express as px\n",
        "import seaborn as sns\n",
        "import statsmodels.api as sm"
      ]
    },
    {
      "cell_type": "code",
      "source": [
        "wh_df = pd.read_csv('worldHappinessReport.csv')"
      ],
      "metadata": {
        "id": "dOpjTc2k9vt-"
      },
      "execution_count": 4,
      "outputs": []
    },
    {
      "cell_type": "code",
      "source": [
        "wh_df.head()"
      ],
      "metadata": {
        "colab": {
          "base_uri": "https://localhost:8080/",
          "height": 365
        },
        "id": "nJcsmfe990v2",
        "outputId": "dc5ad867-9449-4733-ba27-4abe5a6c6e76"
      },
      "execution_count": 6,
      "outputs": [
        {
          "output_type": "execute_result",
          "data": {
            "text/plain": [
              "       Country          Region  Happiness Rank  Happiness Score  \\\n",
              "0  Switzerland  Western Europe               1            7.587   \n",
              "1      Iceland  Western Europe               2            7.561   \n",
              "2      Denmark  Western Europe               3            7.527   \n",
              "3       Norway  Western Europe               4            7.522   \n",
              "4       Canada   North America               5            7.427   \n",
              "\n",
              "   Standard Error  Economy (GDP per Capita)   Family  \\\n",
              "0         0.03411                   1.39651  1.34951   \n",
              "1         0.04884                   1.30232  1.40223   \n",
              "2         0.03328                   1.32548  1.36058   \n",
              "3         0.03880                   1.45900  1.33095   \n",
              "4         0.03553                   1.32629  1.32261   \n",
              "\n",
              "   Health (Life Expectancy)  Freedom  Trust (Government Corruption)  \\\n",
              "0                   0.94143  0.66557                        0.41978   \n",
              "1                   0.94784  0.62877                        0.14145   \n",
              "2                   0.87464  0.64938                        0.48357   \n",
              "3                   0.88521  0.66973                        0.36503   \n",
              "4                   0.90563  0.63297                        0.32957   \n",
              "\n",
              "   Generosity  Dystopia Residual  \n",
              "0     0.29678            2.51738  \n",
              "1     0.43630            2.70201  \n",
              "2     0.34139            2.49204  \n",
              "3     0.34699            2.46531  \n",
              "4     0.45811            2.45176  "
            ],
            "text/html": [
              "\n",
              "  <div id=\"df-8902d559-3fda-4554-a258-a681a7f30734\" class=\"colab-df-container\">\n",
              "    <div>\n",
              "<style scoped>\n",
              "    .dataframe tbody tr th:only-of-type {\n",
              "        vertical-align: middle;\n",
              "    }\n",
              "\n",
              "    .dataframe tbody tr th {\n",
              "        vertical-align: top;\n",
              "    }\n",
              "\n",
              "    .dataframe thead th {\n",
              "        text-align: right;\n",
              "    }\n",
              "</style>\n",
              "<table border=\"1\" class=\"dataframe\">\n",
              "  <thead>\n",
              "    <tr style=\"text-align: right;\">\n",
              "      <th></th>\n",
              "      <th>Country</th>\n",
              "      <th>Region</th>\n",
              "      <th>Happiness Rank</th>\n",
              "      <th>Happiness Score</th>\n",
              "      <th>Standard Error</th>\n",
              "      <th>Economy (GDP per Capita)</th>\n",
              "      <th>Family</th>\n",
              "      <th>Health (Life Expectancy)</th>\n",
              "      <th>Freedom</th>\n",
              "      <th>Trust (Government Corruption)</th>\n",
              "      <th>Generosity</th>\n",
              "      <th>Dystopia Residual</th>\n",
              "    </tr>\n",
              "  </thead>\n",
              "  <tbody>\n",
              "    <tr>\n",
              "      <th>0</th>\n",
              "      <td>Switzerland</td>\n",
              "      <td>Western Europe</td>\n",
              "      <td>1</td>\n",
              "      <td>7.587</td>\n",
              "      <td>0.03411</td>\n",
              "      <td>1.39651</td>\n",
              "      <td>1.34951</td>\n",
              "      <td>0.94143</td>\n",
              "      <td>0.66557</td>\n",
              "      <td>0.41978</td>\n",
              "      <td>0.29678</td>\n",
              "      <td>2.51738</td>\n",
              "    </tr>\n",
              "    <tr>\n",
              "      <th>1</th>\n",
              "      <td>Iceland</td>\n",
              "      <td>Western Europe</td>\n",
              "      <td>2</td>\n",
              "      <td>7.561</td>\n",
              "      <td>0.04884</td>\n",
              "      <td>1.30232</td>\n",
              "      <td>1.40223</td>\n",
              "      <td>0.94784</td>\n",
              "      <td>0.62877</td>\n",
              "      <td>0.14145</td>\n",
              "      <td>0.43630</td>\n",
              "      <td>2.70201</td>\n",
              "    </tr>\n",
              "    <tr>\n",
              "      <th>2</th>\n",
              "      <td>Denmark</td>\n",
              "      <td>Western Europe</td>\n",
              "      <td>3</td>\n",
              "      <td>7.527</td>\n",
              "      <td>0.03328</td>\n",
              "      <td>1.32548</td>\n",
              "      <td>1.36058</td>\n",
              "      <td>0.87464</td>\n",
              "      <td>0.64938</td>\n",
              "      <td>0.48357</td>\n",
              "      <td>0.34139</td>\n",
              "      <td>2.49204</td>\n",
              "    </tr>\n",
              "    <tr>\n",
              "      <th>3</th>\n",
              "      <td>Norway</td>\n",
              "      <td>Western Europe</td>\n",
              "      <td>4</td>\n",
              "      <td>7.522</td>\n",
              "      <td>0.03880</td>\n",
              "      <td>1.45900</td>\n",
              "      <td>1.33095</td>\n",
              "      <td>0.88521</td>\n",
              "      <td>0.66973</td>\n",
              "      <td>0.36503</td>\n",
              "      <td>0.34699</td>\n",
              "      <td>2.46531</td>\n",
              "    </tr>\n",
              "    <tr>\n",
              "      <th>4</th>\n",
              "      <td>Canada</td>\n",
              "      <td>North America</td>\n",
              "      <td>5</td>\n",
              "      <td>7.427</td>\n",
              "      <td>0.03553</td>\n",
              "      <td>1.32629</td>\n",
              "      <td>1.32261</td>\n",
              "      <td>0.90563</td>\n",
              "      <td>0.63297</td>\n",
              "      <td>0.32957</td>\n",
              "      <td>0.45811</td>\n",
              "      <td>2.45176</td>\n",
              "    </tr>\n",
              "  </tbody>\n",
              "</table>\n",
              "</div>\n",
              "    <div class=\"colab-df-buttons\">\n",
              "\n",
              "  <div class=\"colab-df-container\">\n",
              "    <button class=\"colab-df-convert\" onclick=\"convertToInteractive('df-8902d559-3fda-4554-a258-a681a7f30734')\"\n",
              "            title=\"Convert this dataframe to an interactive table.\"\n",
              "            style=\"display:none;\">\n",
              "\n",
              "  <svg xmlns=\"http://www.w3.org/2000/svg\" height=\"24px\" viewBox=\"0 -960 960 960\">\n",
              "    <path d=\"M120-120v-720h720v720H120Zm60-500h600v-160H180v160Zm220 220h160v-160H400v160Zm0 220h160v-160H400v160ZM180-400h160v-160H180v160Zm440 0h160v-160H620v160ZM180-180h160v-160H180v160Zm440 0h160v-160H620v160Z\"/>\n",
              "  </svg>\n",
              "    </button>\n",
              "\n",
              "  <style>\n",
              "    .colab-df-container {\n",
              "      display:flex;\n",
              "      gap: 12px;\n",
              "    }\n",
              "\n",
              "    .colab-df-convert {\n",
              "      background-color: #E8F0FE;\n",
              "      border: none;\n",
              "      border-radius: 50%;\n",
              "      cursor: pointer;\n",
              "      display: none;\n",
              "      fill: #1967D2;\n",
              "      height: 32px;\n",
              "      padding: 0 0 0 0;\n",
              "      width: 32px;\n",
              "    }\n",
              "\n",
              "    .colab-df-convert:hover {\n",
              "      background-color: #E2EBFA;\n",
              "      box-shadow: 0px 1px 2px rgba(60, 64, 67, 0.3), 0px 1px 3px 1px rgba(60, 64, 67, 0.15);\n",
              "      fill: #174EA6;\n",
              "    }\n",
              "\n",
              "    .colab-df-buttons div {\n",
              "      margin-bottom: 4px;\n",
              "    }\n",
              "\n",
              "    [theme=dark] .colab-df-convert {\n",
              "      background-color: #3B4455;\n",
              "      fill: #D2E3FC;\n",
              "    }\n",
              "\n",
              "    [theme=dark] .colab-df-convert:hover {\n",
              "      background-color: #434B5C;\n",
              "      box-shadow: 0px 1px 3px 1px rgba(0, 0, 0, 0.15);\n",
              "      filter: drop-shadow(0px 1px 2px rgba(0, 0, 0, 0.3));\n",
              "      fill: #FFFFFF;\n",
              "    }\n",
              "  </style>\n",
              "\n",
              "    <script>\n",
              "      const buttonEl =\n",
              "        document.querySelector('#df-8902d559-3fda-4554-a258-a681a7f30734 button.colab-df-convert');\n",
              "      buttonEl.style.display =\n",
              "        google.colab.kernel.accessAllowed ? 'block' : 'none';\n",
              "\n",
              "      async function convertToInteractive(key) {\n",
              "        const element = document.querySelector('#df-8902d559-3fda-4554-a258-a681a7f30734');\n",
              "        const dataTable =\n",
              "          await google.colab.kernel.invokeFunction('convertToInteractive',\n",
              "                                                    [key], {});\n",
              "        if (!dataTable) return;\n",
              "\n",
              "        const docLinkHtml = 'Like what you see? Visit the ' +\n",
              "          '<a target=\"_blank\" href=https://colab.research.google.com/notebooks/data_table.ipynb>data table notebook</a>'\n",
              "          + ' to learn more about interactive tables.';\n",
              "        element.innerHTML = '';\n",
              "        dataTable['output_type'] = 'display_data';\n",
              "        await google.colab.output.renderOutput(dataTable, element);\n",
              "        const docLink = document.createElement('div');\n",
              "        docLink.innerHTML = docLinkHtml;\n",
              "        element.appendChild(docLink);\n",
              "      }\n",
              "    </script>\n",
              "  </div>\n",
              "\n",
              "\n",
              "<div id=\"df-f2258fd0-fbe1-44f9-a19e-aa6430a21f84\">\n",
              "  <button class=\"colab-df-quickchart\" onclick=\"quickchart('df-f2258fd0-fbe1-44f9-a19e-aa6430a21f84')\"\n",
              "            title=\"Suggest charts\"\n",
              "            style=\"display:none;\">\n",
              "\n",
              "<svg xmlns=\"http://www.w3.org/2000/svg\" height=\"24px\"viewBox=\"0 0 24 24\"\n",
              "     width=\"24px\">\n",
              "    <g>\n",
              "        <path d=\"M19 3H5c-1.1 0-2 .9-2 2v14c0 1.1.9 2 2 2h14c1.1 0 2-.9 2-2V5c0-1.1-.9-2-2-2zM9 17H7v-7h2v7zm4 0h-2V7h2v10zm4 0h-2v-4h2v4z\"/>\n",
              "    </g>\n",
              "</svg>\n",
              "  </button>\n",
              "\n",
              "<style>\n",
              "  .colab-df-quickchart {\n",
              "      --bg-color: #E8F0FE;\n",
              "      --fill-color: #1967D2;\n",
              "      --hover-bg-color: #E2EBFA;\n",
              "      --hover-fill-color: #174EA6;\n",
              "      --disabled-fill-color: #AAA;\n",
              "      --disabled-bg-color: #DDD;\n",
              "  }\n",
              "\n",
              "  [theme=dark] .colab-df-quickchart {\n",
              "      --bg-color: #3B4455;\n",
              "      --fill-color: #D2E3FC;\n",
              "      --hover-bg-color: #434B5C;\n",
              "      --hover-fill-color: #FFFFFF;\n",
              "      --disabled-bg-color: #3B4455;\n",
              "      --disabled-fill-color: #666;\n",
              "  }\n",
              "\n",
              "  .colab-df-quickchart {\n",
              "    background-color: var(--bg-color);\n",
              "    border: none;\n",
              "    border-radius: 50%;\n",
              "    cursor: pointer;\n",
              "    display: none;\n",
              "    fill: var(--fill-color);\n",
              "    height: 32px;\n",
              "    padding: 0;\n",
              "    width: 32px;\n",
              "  }\n",
              "\n",
              "  .colab-df-quickchart:hover {\n",
              "    background-color: var(--hover-bg-color);\n",
              "    box-shadow: 0 1px 2px rgba(60, 64, 67, 0.3), 0 1px 3px 1px rgba(60, 64, 67, 0.15);\n",
              "    fill: var(--button-hover-fill-color);\n",
              "  }\n",
              "\n",
              "  .colab-df-quickchart-complete:disabled,\n",
              "  .colab-df-quickchart-complete:disabled:hover {\n",
              "    background-color: var(--disabled-bg-color);\n",
              "    fill: var(--disabled-fill-color);\n",
              "    box-shadow: none;\n",
              "  }\n",
              "\n",
              "  .colab-df-spinner {\n",
              "    border: 2px solid var(--fill-color);\n",
              "    border-color: transparent;\n",
              "    border-bottom-color: var(--fill-color);\n",
              "    animation:\n",
              "      spin 1s steps(1) infinite;\n",
              "  }\n",
              "\n",
              "  @keyframes spin {\n",
              "    0% {\n",
              "      border-color: transparent;\n",
              "      border-bottom-color: var(--fill-color);\n",
              "      border-left-color: var(--fill-color);\n",
              "    }\n",
              "    20% {\n",
              "      border-color: transparent;\n",
              "      border-left-color: var(--fill-color);\n",
              "      border-top-color: var(--fill-color);\n",
              "    }\n",
              "    30% {\n",
              "      border-color: transparent;\n",
              "      border-left-color: var(--fill-color);\n",
              "      border-top-color: var(--fill-color);\n",
              "      border-right-color: var(--fill-color);\n",
              "    }\n",
              "    40% {\n",
              "      border-color: transparent;\n",
              "      border-right-color: var(--fill-color);\n",
              "      border-top-color: var(--fill-color);\n",
              "    }\n",
              "    60% {\n",
              "      border-color: transparent;\n",
              "      border-right-color: var(--fill-color);\n",
              "    }\n",
              "    80% {\n",
              "      border-color: transparent;\n",
              "      border-right-color: var(--fill-color);\n",
              "      border-bottom-color: var(--fill-color);\n",
              "    }\n",
              "    90% {\n",
              "      border-color: transparent;\n",
              "      border-bottom-color: var(--fill-color);\n",
              "    }\n",
              "  }\n",
              "</style>\n",
              "\n",
              "  <script>\n",
              "    async function quickchart(key) {\n",
              "      const quickchartButtonEl =\n",
              "        document.querySelector('#' + key + ' button');\n",
              "      quickchartButtonEl.disabled = true;  // To prevent multiple clicks.\n",
              "      quickchartButtonEl.classList.add('colab-df-spinner');\n",
              "      try {\n",
              "        const charts = await google.colab.kernel.invokeFunction(\n",
              "            'suggestCharts', [key], {});\n",
              "      } catch (error) {\n",
              "        console.error('Error during call to suggestCharts:', error);\n",
              "      }\n",
              "      quickchartButtonEl.classList.remove('colab-df-spinner');\n",
              "      quickchartButtonEl.classList.add('colab-df-quickchart-complete');\n",
              "    }\n",
              "    (() => {\n",
              "      let quickchartButtonEl =\n",
              "        document.querySelector('#df-f2258fd0-fbe1-44f9-a19e-aa6430a21f84 button');\n",
              "      quickchartButtonEl.style.display =\n",
              "        google.colab.kernel.accessAllowed ? 'block' : 'none';\n",
              "    })();\n",
              "  </script>\n",
              "</div>\n",
              "\n",
              "    </div>\n",
              "  </div>\n"
            ],
            "application/vnd.google.colaboratory.intrinsic+json": {
              "type": "dataframe",
              "variable_name": "wh_df",
              "summary": "{\n  \"name\": \"wh_df\",\n  \"rows\": 158,\n  \"fields\": [\n    {\n      \"column\": \"Country\",\n      \"properties\": {\n        \"dtype\": \"string\",\n        \"num_unique_values\": 158,\n        \"samples\": [\n          \"Myanmar\",\n          \"Japan\",\n          \"Egypt\"\n        ],\n        \"semantic_type\": \"\",\n        \"description\": \"\"\n      }\n    },\n    {\n      \"column\": \"Region\",\n      \"properties\": {\n        \"dtype\": \"category\",\n        \"num_unique_values\": 10,\n        \"samples\": [\n          \"Sub-Saharan Africa\",\n          \"North America\",\n          \"Southeastern Asia\"\n        ],\n        \"semantic_type\": \"\",\n        \"description\": \"\"\n      }\n    },\n    {\n      \"column\": \"Happiness Rank\",\n      \"properties\": {\n        \"dtype\": \"number\",\n        \"std\": 45,\n        \"min\": 1,\n        \"max\": 158,\n        \"num_unique_values\": 157,\n        \"samples\": [\n          128,\n          46,\n          135\n        ],\n        \"semantic_type\": \"\",\n        \"description\": \"\"\n      }\n    },\n    {\n      \"column\": \"Happiness Score\",\n      \"properties\": {\n        \"dtype\": \"number\",\n        \"std\": 1.1450101349520665,\n        \"min\": 2.839,\n        \"max\": 7.587,\n        \"num_unique_values\": 157,\n        \"samples\": [\n          4.332,\n          5.987,\n          4.194\n        ],\n        \"semantic_type\": \"\",\n        \"description\": \"\"\n      }\n    },\n    {\n      \"column\": \"Standard Error\",\n      \"properties\": {\n        \"dtype\": \"number\",\n        \"std\": 0.017146178556969306,\n        \"min\": 0.01848,\n        \"max\": 0.13693,\n        \"num_unique_values\": 153,\n        \"samples\": [\n          0.06607,\n          0.04802,\n          0.06698\n        ],\n        \"semantic_type\": \"\",\n        \"description\": \"\"\n      }\n    },\n    {\n      \"column\": \"Economy (GDP per Capita)\",\n      \"properties\": {\n        \"dtype\": \"number\",\n        \"std\": 0.40312077853791,\n        \"min\": 0.0,\n        \"max\": 1.69042,\n        \"num_unique_values\": 158,\n        \"samples\": [\n          0.27108,\n          1.27074,\n          0.8818\n        ],\n        \"semantic_type\": \"\",\n        \"description\": \"\"\n      }\n    },\n    {\n      \"column\": \"Family\",\n      \"properties\": {\n        \"dtype\": \"number\",\n        \"std\": 0.27236908600791543,\n        \"min\": 0.0,\n        \"max\": 1.40223,\n        \"num_unique_values\": 158,\n        \"samples\": [\n          0.70905,\n          1.25712,\n          0.747\n        ],\n        \"semantic_type\": \"\",\n        \"description\": \"\"\n      }\n    },\n    {\n      \"column\": \"Health (Life Expectancy)\",\n      \"properties\": {\n        \"dtype\": \"number\",\n        \"std\": 0.24707776630217207,\n        \"min\": 0.0,\n        \"max\": 1.02525,\n        \"num_unique_values\": 157,\n        \"samples\": [\n          0.04776,\n          0.99111,\n          0.61712\n        ],\n        \"semantic_type\": \"\",\n        \"description\": \"\"\n      }\n    },\n    {\n      \"column\": \"Freedom\",\n      \"properties\": {\n        \"dtype\": \"number\",\n        \"std\": 0.15069278393767793,\n        \"min\": 0.0,\n        \"max\": 0.66973,\n        \"num_unique_values\": 158,\n        \"samples\": [\n          0.44017,\n          0.49615,\n          0.17288\n        ],\n        \"semantic_type\": \"\",\n        \"description\": \"\"\n      }\n    },\n    {\n      \"column\": \"Trust (Government Corruption)\",\n      \"properties\": {\n        \"dtype\": \"number\",\n        \"std\": 0.12003407357455917,\n        \"min\": 0.0,\n        \"max\": 0.55191,\n        \"num_unique_values\": 157,\n        \"samples\": [\n          0.12474,\n          0.07857,\n          0.06324\n        ],\n        \"semantic_type\": \"\",\n        \"description\": \"\"\n      }\n    },\n    {\n      \"column\": \"Generosity\",\n      \"properties\": {\n        \"dtype\": \"number\",\n        \"std\": 0.12668493402020534,\n        \"min\": 0.0,\n        \"max\": 0.79588,\n        \"num_unique_values\": 158,\n        \"samples\": [\n          0.79588,\n          0.10705,\n          0.11291\n        ],\n        \"semantic_type\": \"\",\n        \"description\": \"\"\n      }\n    },\n    {\n      \"column\": \"Dystopia Residual\",\n      \"properties\": {\n        \"dtype\": \"number\",\n        \"std\": 0.5535497923037984,\n        \"min\": 0.32858,\n        \"max\": 3.60214,\n        \"num_unique_values\": 158,\n        \"samples\": [\n          1.41805,\n          1.68435,\n          1.59927\n        ],\n        \"semantic_type\": \"\",\n        \"description\": \"\"\n      }\n    }\n  ]\n}"
            }
          },
          "metadata": {},
          "execution_count": 6
        }
      ]
    },
    {
      "cell_type": "code",
      "source": [
        "model_performance_df = wh_df\n",
        "\n",
        "# Define independent and dependent variables\n",
        "X = model_performance_df[['Economy (GDP per Capita)', 'Family', 'Health (Life Expectancy)',\n",
        "          'Freedom', 'Trust (Government Corruption)', 'Generosity', 'Dystopia Residual']]\n",
        "y = model_performance_df['Happiness Score']\n",
        "\n",
        "# Add a constant to the model (for intercept)\n",
        "X = sm.add_constant(X)\n",
        "\n",
        "# Fit the linear regression model\n",
        "model = sm.OLS(y, X).fit()\n",
        "\n",
        "# View model summary, including standard errors\n",
        "print(model.summary())"
      ],
      "metadata": {
        "colab": {
          "base_uri": "https://localhost:8080/"
        },
        "id": "vmUyMRQs-sF7",
        "outputId": "ae65fd26-e5ad-4bce-80d1-f4c4b3cee039"
      },
      "execution_count": 11,
      "outputs": [
        {
          "output_type": "stream",
          "name": "stdout",
          "text": [
            "                            OLS Regression Results                            \n",
            "==============================================================================\n",
            "Dep. Variable:        Happiness Score   R-squared:                       1.000\n",
            "Model:                            OLS   Adj. R-squared:                  1.000\n",
            "Method:                 Least Squares   F-statistic:                 3.695e+08\n",
            "Date:                Sun, 20 Oct 2024   Prob (F-statistic):               0.00\n",
            "Time:                        17:35:10   Log-Likelihood:                 1071.3\n",
            "No. Observations:                 158   AIC:                            -2127.\n",
            "Df Residuals:                     150   BIC:                            -2102.\n",
            "Df Model:                           7                                         \n",
            "Covariance Type:            nonrobust                                         \n",
            "=================================================================================================\n",
            "                                    coef    std err          t      P>|t|      [0.025      0.975]\n",
            "-------------------------------------------------------------------------------------------------\n",
            "const                          6.405e-05      0.000      0.514      0.608      -0.000       0.000\n",
            "Economy (GDP per Capita)          1.0001      0.000   8855.750      0.000       1.000       1.000\n",
            "Family                            1.0000      0.000   8675.863      0.000       1.000       1.000\n",
            "Health (Life Expectancy)          0.9999      0.000   6175.103      0.000       1.000       1.000\n",
            "Freedom                           0.9997      0.000   5059.468      0.000       0.999       1.000\n",
            "Trust (Government Corruption)     0.9999      0.000   4470.866      0.000       0.999       1.000\n",
            "Generosity                        1.0001      0.000   4956.272      0.000       1.000       1.000\n",
            "Dystopia Residual                 1.0000   4.17e-05    2.4e+04      0.000       1.000       1.000\n",
            "==============================================================================\n",
            "Omnibus:                       36.107   Durbin-Watson:                   2.048\n",
            "Prob(Omnibus):                  0.000   Jarque-Bera (JB):                7.774\n",
            "Skew:                          -0.072   Prob(JB):                       0.0205\n",
            "Kurtosis:                       1.923   Cond. No.                         32.0\n",
            "==============================================================================\n",
            "\n",
            "Notes:\n",
            "[1] Standard Errors assume that the covariance matrix of the errors is correctly specified.\n"
          ]
        }
      ]
    },
    {
      "cell_type": "markdown",
      "source": [
        "Key Assumptions:\n",
        "Multicollinearity: Variables like GDP, Health, Family may be highly correlated, leading to inflated coefficients.\n",
        "Overfitting: The high R² suggests the model may fit the training data too well.\n",
        "Residual Diagnostics: Ensuring the residuals are independent and normally distributed is crucial.\n",
        "Model Validation: Cross-validation or feature reduction might improve interpretability.\n",
        "Next Steps: VIF for Multicollinearity & Residual Analysis\n",
        "Below is Python code to:\n",
        "\n",
        "Check multicollinearity using VIF.\n",
        "Plot residuals to ensure normality.\n",
        "Perform cross-validation for model validation."
      ],
      "metadata": {
        "id": "m93k-4O6AgHT"
      }
    },
    {
      "cell_type": "markdown",
      "source": [],
      "metadata": {
        "id": "rR7ANsAoAi5v"
      }
    },
    {
      "cell_type": "code",
      "source": [
        "from statsmodels.stats.outliers_influence import variance_inflation_factor\n",
        "from sklearn.model_selection import cross_val_score, KFold\n",
        "from sklearn.linear_model import LinearRegression\n",
        "\n",
        "\n",
        "vif_data = pd.DataFrame()\n",
        "vif_data['Feature'] = X.columns\n",
        "vif_data['VIF'] = [variance_inflation_factor(X.values, i) for i in range(X.shape[1])]\n",
        "print(vif_data)\n",
        "\n",
        "# 2. Fit OLS Model and Check Residuals\n",
        "model = sm.OLS(y, X).fit()\n",
        "print(model.summary())\n",
        "\n",
        "# Plot residuals\n",
        "residuals = model.resid\n",
        "sns.histplot(residuals, kde=True)\n",
        "plt.title('Residuals Distribution')\n",
        "plt.show()\n",
        "\n",
        "# 3. Cross-Validation for Model Validation\n",
        "kf = KFold(n_splits=5, shuffle=True, random_state=42)\n",
        "lm = LinearRegression()\n",
        "cv_scores = cross_val_score(lm, X, y, cv=kf, scoring='r2')\n"
      ],
      "metadata": {
        "colab": {
          "base_uri": "https://localhost:8080/",
          "height": 1000
        },
        "id": "Q44e7B1FAtgc",
        "outputId": "7e3b8771-3a9c-4f97-8e76-d16bf4ba84d2"
      },
      "execution_count": 13,
      "outputs": [
        {
          "output_type": "stream",
          "name": "stdout",
          "text": [
            "                         Feature        VIF\n",
            "0                          const  30.802145\n",
            "1       Economy (GDP per Capita)   4.088959\n",
            "2                         Family   1.944328\n",
            "3       Health (Life Expectancy)   3.157781\n",
            "4                        Freedom   1.749104\n",
            "5  Trust (Government Corruption)   1.421872\n",
            "6                     Generosity   1.289134\n",
            "7              Dystopia Residual   1.049255\n",
            "                            OLS Regression Results                            \n",
            "==============================================================================\n",
            "Dep. Variable:        Happiness Score   R-squared:                       1.000\n",
            "Model:                            OLS   Adj. R-squared:                  1.000\n",
            "Method:                 Least Squares   F-statistic:                 3.695e+08\n",
            "Date:                Sun, 20 Oct 2024   Prob (F-statistic):               0.00\n",
            "Time:                        17:39:50   Log-Likelihood:                 1071.3\n",
            "No. Observations:                 158   AIC:                            -2127.\n",
            "Df Residuals:                     150   BIC:                            -2102.\n",
            "Df Model:                           7                                         \n",
            "Covariance Type:            nonrobust                                         \n",
            "=================================================================================================\n",
            "                                    coef    std err          t      P>|t|      [0.025      0.975]\n",
            "-------------------------------------------------------------------------------------------------\n",
            "const                          6.405e-05      0.000      0.514      0.608      -0.000       0.000\n",
            "Economy (GDP per Capita)          1.0001      0.000   8855.750      0.000       1.000       1.000\n",
            "Family                            1.0000      0.000   8675.863      0.000       1.000       1.000\n",
            "Health (Life Expectancy)          0.9999      0.000   6175.103      0.000       1.000       1.000\n",
            "Freedom                           0.9997      0.000   5059.468      0.000       0.999       1.000\n",
            "Trust (Government Corruption)     0.9999      0.000   4470.866      0.000       0.999       1.000\n",
            "Generosity                        1.0001      0.000   4956.272      0.000       1.000       1.000\n",
            "Dystopia Residual                 1.0000   4.17e-05    2.4e+04      0.000       1.000       1.000\n",
            "==============================================================================\n",
            "Omnibus:                       36.107   Durbin-Watson:                   2.048\n",
            "Prob(Omnibus):                  0.000   Jarque-Bera (JB):                7.774\n",
            "Skew:                          -0.072   Prob(JB):                       0.0205\n",
            "Kurtosis:                       1.923   Cond. No.                         32.0\n",
            "==============================================================================\n",
            "\n",
            "Notes:\n",
            "[1] Standard Errors assume that the covariance matrix of the errors is correctly specified.\n"
          ]
        },
        {
          "output_type": "display_data",
          "data": {
            "text/plain": [
              "<Figure size 640x480 with 1 Axes>"
            ],
            "image/png": "[encoded data removed]"
          },
          "metadata": {}
        }
      ]
    },
    {
      "cell_type": "markdown",
      "source": [
        "Concise Assumptions from Results:\n",
        "Multicollinearity:\n",
        "\n",
        "VIF values < 5 indicate no severe multicollinearity among independent variables.\n",
        "The intercept's VIF (30.8) suggests redundancy in the constant, but this doesn’t affect model predictions.\n",
        "Model Fit:\n",
        "\n",
        "R² = 1.00 suggests the model perfectly explains the variance in Happiness Score, likely due to data overfitting.\n",
        "Coefficient Significance:\n",
        "\n",
        "All variables have P-values < 0.05, indicating they are statistically significant.\n",
        "Residual Independence:\n",
        "\n",
        "Durbin-Watson ≈ 2 confirms no strong autocorrelation in residuals.\n",
        "Residual Normality:\n",
        "\n",
        "Omnibus and Jarque-Bera tests suggest mild deviation from normality (Prob < 0.05), which may impact assumptions about error distribution.\n"
      ],
      "metadata": {
        "id": "-MxwSB-CBMWR"
      }
    },
    {
      "cell_type": "code",
      "source": [
        "from sklearn.linear_model import Ridge\n",
        "\n",
        "# Define Ridge regression model\n",
        "ridge_model = Ridge(alpha=1.0)\n",
        "\n",
        "# Cross-validation for Ridge\n",
        "ridge_cv_scores = cross_val_score(ridge_model, X, y, cv=kf, scoring='r2')\n",
        "\n",
        "print(f'Ridge Regression Cross-Validation R² Scores: {ridge_cv_scores}')\n",
        "print(f'Mean R² for Ridge: {ridge_cv_scores.mean():.4f}')\n"
      ],
      "metadata": {
        "colab": {
          "base_uri": "https://localhost:8080/"
        },
        "id": "j0GR-jrTCLby",
        "outputId": "0faabb43-4d74-4450-c437-1d998253b925"
      },
      "execution_count": 14,
      "outputs": [
        {
          "output_type": "stream",
          "name": "stdout",
          "text": [
            "Ridge Regression Cross-Validation R² Scores: [0.99708549 0.99643254 0.99615477 0.99406657 0.99734771]\n",
            "Mean R² for Ridge: 0.9962\n"
          ]
        }
      ]
    },
    {
      "cell_type": "markdown",
      "source": [
        "The results from the Ridge regression cross-validation are quite promising:\n",
        "\n",
        "R² Scores: The individual scores range from approximately 0.9941 to 0.9973, indicating that the model explains about 99% of the variance in the Happiness Score across different subsets of data.\n",
        "Mean R² for Ridge: The mean R² of 0.9962 suggests that the Ridge regression model is not only performing well on the training data but is also generalizing effectively to unseen data.\n",
        "Interpretation:\n",
        "High R² Values: The high R² values indicate that the model captures the relationship between the independent variables (like GDP per capita, Family, etc.) and the dependent variable (Happiness Score) very well.\n",
        "Robustness Against Overfitting: Since Ridge regression includes a regularization parameter that penalizes large coefficients, this result suggests a good balance between bias and variance, reducing the risk of overfitting while maintaining predictive power."
      ],
      "metadata": {
        "id": "P_ylXEg3CZZx"
      }
    },
    {
      "cell_type": "markdown",
      "source": [],
      "metadata": {
        "id": "mfDQyS5XCalh"
      }
    },
    {
      "cell_type": "markdown",
      "source": [
        "checking what is best alpha to put into for LassoCv"
      ],
      "metadata": {
        "id": "TlGTy4I2DEie"
      }
    },
    {
      "cell_type": "markdown",
      "source": [
        "checking for other alphas for optimal alpha"
      ],
      "metadata": {
        "id": "JsCWZN4FCvid"
      }
    },
    {
      "cell_type": "code",
      "source": [
        "from sklearn.linear_model import LassoCV\n",
        "\n",
        "# Lasso Regression with Cross-Validation for alpha tuning\n",
        "lasso_cv_model = LassoCV(alphas=np.logspace(-4, 0, 100), cv=kf)\n",
        "lasso_cv_model.fit(X, y)\n",
        "\n",
        "print(f'Optimal alpha: {lasso_cv_model.alpha_}')\n"
      ],
      "metadata": {
        "colab": {
          "base_uri": "https://localhost:8080/"
        },
        "id": "_L7WPas0C5XU",
        "outputId": "0273bca0-aadf-459d-c87c-10277231c77c"
      },
      "execution_count": 16,
      "outputs": [
        {
          "output_type": "stream",
          "name": "stdout",
          "text": [
            "Optimal alpha: 0.0001\n"
          ]
        }
      ]
    },
    {
      "cell_type": "code",
      "source": [
        "from sklearn.linear_model import Lasso\n",
        "\n",
        "# Fit Lasso model with optimal alpha\n",
        "lasso_model = Lasso(alpha=0.0001)\n",
        "lasso_model.fit(X, y)\n",
        "\n",
        "# Coefficients and performance\n",
        "print(\"Lasso Coefficients:\", lasso_model.coef_)\n"
      ],
      "metadata": {
        "colab": {
          "base_uri": "https://localhost:8080/"
        },
        "id": "sYs46A00DKf-",
        "outputId": "6ee5f36f-954d-4df9-cb94-41596a0ffd1a"
      },
      "execution_count": 17,
      "outputs": [
        {
          "output_type": "stream",
          "name": "stdout",
          "text": [
            "Lasso Coefficients: [0.         1.00135265 0.99927779 0.9979878  0.99934179 0.99431804\n",
            " 0.99579434 0.99959889]\n"
          ]
        }
      ]
    },
    {
      "cell_type": "markdown",
      "source": [
        "he Lasso coefficients you obtained indicate the relative importance of each feature in predicting the Happiness Score. Here’s a breakdown of the coefficients:\n",
        "\n",
        "Lasso Coefficients\n",
        "Economy (GDP per Capita): 1.0014\n",
        "Family: 0.9993\n",
        "Health (Life Expectancy): 0.9980\n",
        "Freedom: 0.9993\n",
        "Trust (Government Corruption): 0.9943\n",
        "Generosity: 0.9958\n",
        "Dystopia Residual: 0.9996\n",
        "Interpretation\n",
        "Feature Importance:\n",
        "\n",
        "All features have significant coefficients close to 1, indicating that they contribute substantially to predicting the Happiness Score.\n",
        "The coefficients suggest a strong linear relationship between the features and the target variable.\n",
        "Zero Coefficient:\n",
        "\n",
        "The first coefficient (corresponding to the constant term) is 0, which is expected in a properly fit model.\n",
        "Feature Impact:\n",
        "\n",
        "Since the coefficients are very close to 1, it indicates that a one-unit increase in any of these features would lead to nearly an equal increase in the Happiness Score."
      ],
      "metadata": {
        "id": "sRni_4PLDgwd"
      }
    },
    {
      "cell_type": "markdown",
      "source": [],
      "metadata": {
        "id": "mSwejUj_BNhA"
      }
    },
    {
      "cell_type": "markdown",
      "source": [
        "Evluating Model performance"
      ],
      "metadata": {
        "id": "rvmBCdUuDp_q"
      }
    },
    {
      "cell_type": "markdown",
      "source": [],
      "metadata": {
        "id": "ex60FwC7Dhfp"
      }
    },
    {
      "cell_type": "code",
      "source": [
        "from sklearn.metrics import r2_score, mean_squared_error\n",
        "\n",
        "y_pred = lasso_model.predict(X)\n",
        "print(\"R² Score:\", r2_score(y, y_pred))\n",
        "print(\"MSE:\", mean_squared_error(y, y_pred))\n"
      ],
      "metadata": {
        "colab": {
          "base_uri": "https://localhost:8080/"
        },
        "id": "-4CBH61PDupU",
        "outputId": "a21ac7fe-d61d-4448-a8ca-366b6048abe5"
      },
      "execution_count": 18,
      "outputs": [
        {
          "output_type": "stream",
          "name": "stdout",
          "text": [
            "R² Score: 0.9999990160164707\n",
            "MSE: 1.2818849715258048e-06\n"
          ]
        }
      ]
    },
    {
      "cell_type": "markdown",
      "source": [
        "Performance Metrics\n",
        "R² Score: 0.999999\n",
        "\n",
        "This indicates that your model explains approximately 99.9999% of the variance in the Happiness Score. A value this high suggests an exceptionally good fit.\n",
        "Mean Squared Error (MSE): 1.2819e-06\n",
        "\n",
        "The MSE being so low indicates that the average squared difference between the predicted and actual Happiness Scores is almost negligible, which is an excellent result."
      ],
      "metadata": {
        "id": "bB_rI1syD5aO"
      }
    },
    {
      "cell_type": "markdown",
      "source": [],
      "metadata": {
        "id": "f2UxrphkD6s9"
      }
    },
    {
      "cell_type": "code",
      "source": [
        "# Plot predicted vs. actual values\n",
        "plt.figure(figsize=(10, 6))\n",
        "plt.scatter(y, y_pred, alpha=0.5)\n",
        "plt.plot([y.min(), y.max()], [y.min(), y.max()], color='red', linestyle='--')\n",
        "plt.title('Actual vs. Predicted Happiness Scores')\n",
        "plt.xlabel('Actual Happiness Score')\n",
        "plt.ylabel('Predicted Happiness Score')\n",
        "plt.show()\n"
      ],
      "metadata": {
        "colab": {
          "base_uri": "https://localhost:8080/",
          "height": 564
        },
        "id": "x_By-LTxEHne",
        "outputId": "b30ec496-daad-479a-efa8-9e4dde56a79c"
      },
      "execution_count": 20,
      "outputs": [
        {
          "output_type": "display_data",
          "data": {
            "text/plain": [
              "<Figure size 1000x600 with 1 Axes>"
            ],
            "image/png": "[encoded data removed]"
          },
          "metadata": {}
        }
      ]
    },
    {
      "cell_type": "markdown",
      "source": [
        "### My Analysis and Model Evaluation Summary\n",
        "\n",
        "In my recent project, I focused on the **World Happiness Report** dataset, aiming to analyze the factors influencing happiness across different countries. Here’s a concise summary of my process and findings:\n",
        "\n",
        "1. **Data Exploration**:\n",
        "   - I began by exploring the dataset using **Pandas**, which allowed me to manipulate and visualize the relationships between various factors, such as Economy (GDP per Capita), Family, Health (Life Expectancy), Freedom, Trust (Government Corruption), Generosity, and Dystopia Residual.\n",
        "\n",
        "2. **Building Predictive Models**:\n",
        "   - I applied **Ordinary Least Squares (OLS) Regression** to understand the relationships between the independent variables and the **Happiness Score**.\n",
        "   - I checked for multicollinearity using the **Variance Inflation Factor (VIF)** to ensure my model was robust.\n",
        "\n",
        "3. **Implementing Regularization**:\n",
        "   - To enhance my model and reduce overfitting, I utilized **Ridge Regression** and **Lasso Regression**. I performed cross-validation to tune hyperparameters and determined the optimal alpha value for Lasso, which was found to be **0.0001**.\n",
        "\n",
        "4. **Performance Evaluation**:\n",
        "   - I evaluated the models using performance metrics:\n",
        "     - The **R² Score** was **0.999999**, indicating an exceptional fit.\n",
        "     - The **Mean Squared Error (MSE)** was **1.2819e-06**, showing very low error in my predictions.\n",
        "\n",
        "5. **Coefficient Analysis**:\n",
        "   - From the Lasso regression, I observed that all coefficients were significantly positive, emphasizing that each feature positively contributes to the Happiness Score.\n",
        "\n",
        "### Next Steps\n",
        "To further evaluate my model’s reliability and performance, I plan to:\n",
        "\n",
        "- Conduct a **residual analysis** to verify the assumptions of my model.\n",
        "- Use **k-fold cross-validation** to test the model on various data subsets.\n",
        "- Validate the model on a separate test dataset to ensure it generalizes well.\n",
        "- Explore **feature importance** using techniques like permutation feature importance to understand the influence of each variable better.\n",
        "- Compare my findings with other regression techniques to identify the best-performing model.\n",
        "\n",
        "Overall, I’m pleased with the progress I've made in building a predictive model using the World Happiness Report dataset. If you have any suggestions or need assistance with the next steps, I'm open to feedback!"
      ],
      "metadata": {
        "id": "zTyDddJGFGss"
      }
    },
    {
      "cell_type": "markdown",
      "source": [],
      "metadata": {
        "id": "UZrenOvQFHim"
      }
    }
  ]
}